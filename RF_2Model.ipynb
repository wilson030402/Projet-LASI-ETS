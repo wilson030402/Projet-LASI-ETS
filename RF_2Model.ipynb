{
 "cells": [
  {
   "cell_type": "markdown",
   "id": "c394bfc3",
   "metadata": {},
   "source": [
    "### Inférence préparation"
   ]
  },
  {
   "cell_type": "code",
   "execution_count": 2,
   "id": "2e476c31",
   "metadata": {},
   "outputs": [
    {
     "ename": "FileNotFoundError",
     "evalue": "[Errno 2] No such file or directory: 'O2trt.pth'",
     "output_type": "error",
     "traceback": [
      "\u001b[0;31m---------------------------------------------------------------------------\u001b[0m",
      "\u001b[0;31mFileNotFoundError\u001b[0m                         Traceback (most recent call last)",
      "\u001b[0;32m<ipython-input-2-a60eb7fcf52b>\u001b[0m in \u001b[0;36m<module>\u001b[0;34m\u001b[0m\n\u001b[1;32m     26\u001b[0m \u001b[0;34m\u001b[0m\u001b[0m\n\u001b[1;32m     27\u001b[0m \u001b[0mmodel_trt_3\u001b[0m \u001b[0;34m=\u001b[0m \u001b[0mTRTModule\u001b[0m\u001b[0;34m(\u001b[0m\u001b[0;34m)\u001b[0m\u001b[0;34m\u001b[0m\u001b[0;34m\u001b[0m\u001b[0m\n\u001b[0;32m---> 28\u001b[0;31m \u001b[0mmodel_trt_3\u001b[0m\u001b[0;34m.\u001b[0m\u001b[0mload_state_dict\u001b[0m\u001b[0;34m(\u001b[0m\u001b[0mtorch\u001b[0m\u001b[0;34m.\u001b[0m\u001b[0mload\u001b[0m\u001b[0;34m(\u001b[0m\u001b[0;34m'O2trt.pth'\u001b[0m\u001b[0;34m)\u001b[0m\u001b[0;34m)\u001b[0m\u001b[0;34m\u001b[0m\u001b[0;34m\u001b[0m\u001b[0m\n\u001b[0m\u001b[1;32m     29\u001b[0m \u001b[0;34m\u001b[0m\u001b[0m\n\u001b[1;32m     30\u001b[0m \u001b[0mmodel_trt_4\u001b[0m \u001b[0;34m=\u001b[0m \u001b[0mTRTModule\u001b[0m\u001b[0;34m(\u001b[0m\u001b[0;34m)\u001b[0m\u001b[0;34m\u001b[0m\u001b[0;34m\u001b[0m\u001b[0m\n",
      "\u001b[0;32m~/.local/lib/python3.6/site-packages/torch/serialization.py\u001b[0m in \u001b[0;36mload\u001b[0;34m(f, map_location, pickle_module, **pickle_load_args)\u001b[0m\n\u001b[1;32m    569\u001b[0m         \u001b[0mpickle_load_args\u001b[0m\u001b[0;34m[\u001b[0m\u001b[0;34m'encoding'\u001b[0m\u001b[0;34m]\u001b[0m \u001b[0;34m=\u001b[0m \u001b[0;34m'utf-8'\u001b[0m\u001b[0;34m\u001b[0m\u001b[0;34m\u001b[0m\u001b[0m\n\u001b[1;32m    570\u001b[0m \u001b[0;34m\u001b[0m\u001b[0m\n\u001b[0;32m--> 571\u001b[0;31m     \u001b[0;32mwith\u001b[0m \u001b[0m_open_file_like\u001b[0m\u001b[0;34m(\u001b[0m\u001b[0mf\u001b[0m\u001b[0;34m,\u001b[0m \u001b[0;34m'rb'\u001b[0m\u001b[0;34m)\u001b[0m \u001b[0;32mas\u001b[0m \u001b[0mopened_file\u001b[0m\u001b[0;34m:\u001b[0m\u001b[0;34m\u001b[0m\u001b[0;34m\u001b[0m\u001b[0m\n\u001b[0m\u001b[1;32m    572\u001b[0m         \u001b[0;32mif\u001b[0m \u001b[0m_is_zipfile\u001b[0m\u001b[0;34m(\u001b[0m\u001b[0mopened_file\u001b[0m\u001b[0;34m)\u001b[0m\u001b[0;34m:\u001b[0m\u001b[0;34m\u001b[0m\u001b[0;34m\u001b[0m\u001b[0m\n\u001b[1;32m    573\u001b[0m             \u001b[0;31m# The zipfile reader is going to advance the current file position.\u001b[0m\u001b[0;34m\u001b[0m\u001b[0;34m\u001b[0m\u001b[0;34m\u001b[0m\u001b[0m\n",
      "\u001b[0;32m~/.local/lib/python3.6/site-packages/torch/serialization.py\u001b[0m in \u001b[0;36m_open_file_like\u001b[0;34m(name_or_buffer, mode)\u001b[0m\n\u001b[1;32m    227\u001b[0m \u001b[0;32mdef\u001b[0m \u001b[0m_open_file_like\u001b[0m\u001b[0;34m(\u001b[0m\u001b[0mname_or_buffer\u001b[0m\u001b[0;34m,\u001b[0m \u001b[0mmode\u001b[0m\u001b[0;34m)\u001b[0m\u001b[0;34m:\u001b[0m\u001b[0;34m\u001b[0m\u001b[0;34m\u001b[0m\u001b[0m\n\u001b[1;32m    228\u001b[0m     \u001b[0;32mif\u001b[0m \u001b[0m_is_path\u001b[0m\u001b[0;34m(\u001b[0m\u001b[0mname_or_buffer\u001b[0m\u001b[0;34m)\u001b[0m\u001b[0;34m:\u001b[0m\u001b[0;34m\u001b[0m\u001b[0;34m\u001b[0m\u001b[0m\n\u001b[0;32m--> 229\u001b[0;31m         \u001b[0;32mreturn\u001b[0m \u001b[0m_open_file\u001b[0m\u001b[0;34m(\u001b[0m\u001b[0mname_or_buffer\u001b[0m\u001b[0;34m,\u001b[0m \u001b[0mmode\u001b[0m\u001b[0;34m)\u001b[0m\u001b[0;34m\u001b[0m\u001b[0;34m\u001b[0m\u001b[0m\n\u001b[0m\u001b[1;32m    230\u001b[0m     \u001b[0;32melse\u001b[0m\u001b[0;34m:\u001b[0m\u001b[0;34m\u001b[0m\u001b[0;34m\u001b[0m\u001b[0m\n\u001b[1;32m    231\u001b[0m         \u001b[0;32mif\u001b[0m \u001b[0;34m'w'\u001b[0m \u001b[0;32min\u001b[0m \u001b[0mmode\u001b[0m\u001b[0;34m:\u001b[0m\u001b[0;34m\u001b[0m\u001b[0;34m\u001b[0m\u001b[0m\n",
      "\u001b[0;32m~/.local/lib/python3.6/site-packages/torch/serialization.py\u001b[0m in \u001b[0;36m__init__\u001b[0;34m(self, name, mode)\u001b[0m\n\u001b[1;32m    208\u001b[0m \u001b[0;32mclass\u001b[0m \u001b[0m_open_file\u001b[0m\u001b[0;34m(\u001b[0m\u001b[0m_opener\u001b[0m\u001b[0;34m)\u001b[0m\u001b[0;34m:\u001b[0m\u001b[0;34m\u001b[0m\u001b[0;34m\u001b[0m\u001b[0m\n\u001b[1;32m    209\u001b[0m     \u001b[0;32mdef\u001b[0m \u001b[0m__init__\u001b[0m\u001b[0;34m(\u001b[0m\u001b[0mself\u001b[0m\u001b[0;34m,\u001b[0m \u001b[0mname\u001b[0m\u001b[0;34m,\u001b[0m \u001b[0mmode\u001b[0m\u001b[0;34m)\u001b[0m\u001b[0;34m:\u001b[0m\u001b[0;34m\u001b[0m\u001b[0;34m\u001b[0m\u001b[0m\n\u001b[0;32m--> 210\u001b[0;31m         \u001b[0msuper\u001b[0m\u001b[0;34m(\u001b[0m\u001b[0m_open_file\u001b[0m\u001b[0;34m,\u001b[0m \u001b[0mself\u001b[0m\u001b[0;34m)\u001b[0m\u001b[0;34m.\u001b[0m\u001b[0m__init__\u001b[0m\u001b[0;34m(\u001b[0m\u001b[0mopen\u001b[0m\u001b[0;34m(\u001b[0m\u001b[0mname\u001b[0m\u001b[0;34m,\u001b[0m \u001b[0mmode\u001b[0m\u001b[0;34m)\u001b[0m\u001b[0;34m)\u001b[0m\u001b[0;34m\u001b[0m\u001b[0;34m\u001b[0m\u001b[0m\n\u001b[0m\u001b[1;32m    211\u001b[0m \u001b[0;34m\u001b[0m\u001b[0m\n\u001b[1;32m    212\u001b[0m     \u001b[0;32mdef\u001b[0m \u001b[0m__exit__\u001b[0m\u001b[0;34m(\u001b[0m\u001b[0mself\u001b[0m\u001b[0;34m,\u001b[0m \u001b[0;34m*\u001b[0m\u001b[0margs\u001b[0m\u001b[0;34m)\u001b[0m\u001b[0;34m:\u001b[0m\u001b[0;34m\u001b[0m\u001b[0;34m\u001b[0m\u001b[0m\n",
      "\u001b[0;31mFileNotFoundError\u001b[0m: [Errno 2] No such file or directory: 'O2trt.pth'"
     ]
    }
   ],
   "source": [
    "import cv2\n",
    "import torch\n",
    "import torchvision\n",
    "import time\n",
    "from torch2trt import TRTModule\n",
    "from jetracer.nvidia_racecar import NvidiaRacecar\n",
    "from jetcam.csi_camera import CSICamera\n",
    "from utils import preprocess\n",
    "import numpy as np\n",
    "\n",
    "# Categories and device\n",
    "CATEGORIES = ['Train']\n",
    "device = torch.device('cuda')\n",
    "\n",
    "# Model initialization\n",
    "model = torchvision.models.resnet18(pretrained=False)\n",
    "model.fc = torch.nn.Linear(512, 2 * len(CATEGORIES))\n",
    "model = model.cuda().eval().half()\n",
    "\n",
    "# Load both TRT models\n",
    "model_trt_1 = TRTModule()\n",
    "model_trt_1.load_state_dict(torch.load('RF1.pth'))\n",
    "\n",
    "model_trt_2 = TRTModule()\n",
    "model_trt_2.load_state_dict(torch.load('VD_trt.pth'))\n",
    "\n",
    "# Initialize the car and camera\n",
    "car = NvidiaRacecar()\n",
    "camera = CSICamera(width=224, height=224, capture_fps=65)"
   ]
  },
  {
   "cell_type": "markdown",
   "id": "bbf8f1de",
   "metadata": {},
   "source": [
    "### Correcteur Proportionnel"
   ]
  },
  {
   "cell_type": "code",
   "execution_count": null,
   "id": "3cd3d8a9",
   "metadata": {},
   "outputs": [],
   "source": [
    "# Steering parameters\n",
    "STEERING_GAIN = -4.00\n",
    "STEERING_BIAS = 0\n",
    "\n",
    "# Set initial throttle\n",
    "car.throttle = -0.3\n",
    "frame_number = 0\n",
    "\n",
    "# Start time\n",
    "start_time = time.time()\n",
    "\n",
    "# Main loop\n",
    "while True:\n",
    "    a = time.time()\n",
    "    # Get the current time\n",
    "    current_time = time.time()\n",
    "    \n",
    "    # Calculate elapsed time\n",
    "    elapsed_time = current_time - start_time\n",
    "    \n",
    "    # Switch model every 60 seconds\n",
    "    if int(elapsed_time) % 120 < 60:\n",
    "        model_trt = model_trt_1\n",
    "    else:\n",
    "        model_trt = model_trt_2\n",
    "    \n",
    "    # Read image from camera\n",
    "    image = camera.read()\n",
    "    \n",
    "    # Preprocess image\n",
    "    image = preprocess(image).half()\n",
    "    \n",
    "    # Predict steering\n",
    "    output = model_trt(image).detach().cpu().numpy().flatten()\n",
    "    x = float(output[0])\n",
    "    \n",
    "    # Apply steering\n",
    "    car.steering = x * STEERING_GAIN + STEERING_BIAS"
   ]
  },
  {
   "cell_type": "markdown",
   "id": "e7e0b1e1",
   "metadata": {},
   "source": [
    "### Correcteur Proportionel derivateur"
   ]
  },
  {
   "cell_type": "code",
   "execution_count": null,
   "id": "4fe514ff",
   "metadata": {},
   "outputs": [],
   "source": [
    "# Steering parameters\n",
    "kp = 2.5\n",
    "kd = 8.0\n",
    "last_x = 0\n",
    "\n",
    "# Set initial throttle\n",
    "car.throttle = -0.3\n",
    "frame_number = 0\n",
    "\n",
    "# Start time\n",
    "start_time = time.time()\n",
    "\n",
    "# Main loop\n",
    "while True:\n",
    "    a = time.time()\n",
    "    # Get the current time\n",
    "    current_time = time.time()\n",
    "    \n",
    "    # Calculate elapsed time\n",
    "    elapsed_time = current_time - start_time\n",
    "    \n",
    "    # Switch model every 60 seconds\n",
    "    if int(elapsed_time) % 120 < 60:\n",
    "        model_trt = model_trt_1\n",
    "    else:\n",
    "        model_trt = model_trt_2\n",
    "    \n",
    "    # Read image from camera\n",
    "    image = camera.read()\n",
    "    \n",
    "    # Preprocess image\n",
    "    image = preprocess(image).half()\n",
    "    \n",
    "    # Predict steering\n",
    "    output = model_trt(image).detach().cpu().numpy().flatten()\n",
    "    x = float(output[0])\n",
    "    \n",
    "    # Apply steering\n",
    "    car.steering = - (x * kp + ( x - last_x ) *kd)\n",
    "    last_x = x"
   ]
  },
  {
   "cell_type": "code",
   "execution_count": null,
   "id": "b4c1ca23",
   "metadata": {},
   "outputs": [],
   "source": []
  }
 ],
 "metadata": {
  "kernelspec": {
   "display_name": "Python 3",
   "language": "python",
   "name": "python3"
  },
  "language_info": {
   "codemirror_mode": {
    "name": "ipython",
    "version": 3
   },
   "file_extension": ".py",
   "mimetype": "text/x-python",
   "name": "python",
   "nbconvert_exporter": "python",
   "pygments_lexer": "ipython3",
   "version": "3.6.9"
  }
 },
 "nbformat": 4,
 "nbformat_minor": 5
}
