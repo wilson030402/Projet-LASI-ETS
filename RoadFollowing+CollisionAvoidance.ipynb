{
 "cells": [
  {
   "cell_type": "code",
   "execution_count": 1,
   "id": "1ee14479",
   "metadata": {},
   "outputs": [],
   "source": [
    "import cv2\n",
    "import torch\n",
    "device = torch.device('cuda')"
   ]
  },
  {
   "cell_type": "code",
   "execution_count": 2,
   "id": "86e70ed5",
   "metadata": {},
   "outputs": [
    {
     "data": {
      "text/plain": [
       "<All keys matched successfully>"
      ]
     },
     "execution_count": 2,
     "metadata": {},
     "output_type": "execute_result"
    }
   ],
   "source": [
    "import torchvision\n",
    "from torch2trt import TRTModule\n",
    "\n",
    "model_trt_collision = TRTModule()\n",
    "model_trt = TRTModule()\n",
    "model_trt_collision.load_state_dict(torch.load('best_model_trt.pth')) \n",
    "model_trt.load_state_dict(torch.load('model_final_opti.pth'))"
   ]
  },
  {
   "cell_type": "code",
   "execution_count": 3,
   "id": "1cbd2809",
   "metadata": {},
   "outputs": [],
   "source": [
    "import torchvision.transforms as transforms\n",
    "import torch.nn.functional as F\n",
    "import cv2\n",
    "import PIL.Image\n",
    "import numpy as np\n",
    "\n",
    "mean = torch.Tensor([0.485, 0.456, 0.406]).cuda().half()\n",
    "std = torch.Tensor([0.229, 0.224, 0.225]).cuda().half()\n",
    "\n",
    "normalize = torchvision.transforms.Normalize(mean, std)\n",
    "\n",
    "def preprocess(image):\n",
    "    image = PIL.Image.fromarray(image)\n",
    "    image = transforms.functional.to_tensor(image).to(device).half()\n",
    "    image.sub_(mean[:, None, None]).div_(std[:, None, None])\n",
    "    return image[None, ...]"
   ]
  },
  {
   "cell_type": "code",
   "execution_count": 4,
   "id": "55c77c62",
   "metadata": {},
   "outputs": [
    {
     "data": {
      "application/vnd.jupyter.widget-view+json": {
       "model_id": "3b1c18fce4bc4c0082bac9bb8390ebf5",
       "version_major": 2,
       "version_minor": 0
      },
      "text/plain": [
       "VBox(children=(HBox(children=(Image(value=b'\\xff\\xd8\\xff\\xe0\\x00\\x10JFIF\\x00\\x01\\x01\\x00\\x00\\x01\\x00\\x01\\x00\\x…"
      ]
     },
     "metadata": {},
     "output_type": "display_data"
    }
   ],
   "source": [
    "import traitlets\n",
    "from IPython.display import display\n",
    "import ipywidgets.widgets as widgets\n",
    "from jetcam.csi_camera import CSICamera\n",
    "import cv2\n",
    "\n",
    "def bgr8_to_jpeg(value, quality=75):\n",
    "    return bytes(cv2.imencode('.jpeg', value)[1])\n",
    "\n",
    "camera = CSICamera(width=224, height=224)\n",
    "image = widgets.Image(format='jpeg', width=224, height=224)\n",
    "blocked_slider = widgets.FloatSlider(description='blocked', min=0.0, max=1.0, orientation='vertical')\n",
    "\n",
    "camera_link = traitlets.dlink((camera, 'value'), (image, 'value'), transform=bgr8_to_jpeg)\n",
    "\n",
    "display(widgets.VBox([widgets.HBox([image, blocked_slider])]))"
   ]
  },
  {
   "cell_type": "code",
   "execution_count": 5,
   "id": "3761ba6a",
   "metadata": {},
   "outputs": [],
   "source": [
    "from jetracer.nvidia_racecar import NvidiaRacecar\n",
    "\n",
    "car = NvidiaRacecar()"
   ]
  },
  {
   "cell_type": "code",
   "execution_count": null,
   "id": "84aacb75",
   "metadata": {},
   "outputs": [],
   "source": [
    "import csv\n",
    "import torch.nn.functional as F\n",
    "from utils import preprocess\n",
    "import time\n",
    "from math import sin, cos, tan, pi\n",
    "\n",
    "# Road Following parameters\n",
    "STEERING_GAIN = -2.00\n",
    "STEERING_BIAS = -0.15\n",
    "\n",
    "# Vehicle specifications\n",
    "WHEEL_BASE = 2.0  # Distance between front and rear axles (example value)\n",
    "\n",
    "# Initialize state variables\n",
    "count_stops = 0\n",
    "stop_time = 10  # The number of frames to remain stopped\n",
    "position_x, position_y = 0, 0  # Assuming a starting position of (0, 0)\n",
    "orientation = 0  # Assuming a starting orientation of 0 radians\n",
    "last_time = time.time()\n",
    "\n",
    "# Open (or create) the CSV file\n",
    "csv_file = open('robot_log.csv', 'a', newline='')  # Append mode\n",
    "csv_writer = csv.writer(csv_file)\n",
    "\n",
    "# Optional: Write header if the file is new\n",
    "if csv_file.tell() == 0:\n",
    "    csv_writer.writerow(['Time', 'Throttle', 'Steering', 'Position X', 'Position Y', 'Orientation'])\n",
    "\n",
    "def update_position(steering, speed, time_elapsed):\n",
    "    global position_x, position_y, orientation\n",
    "    \n",
    "    if steering == 0:  # Moving straight\n",
    "        position_x += speed * time_elapsed * cos(orientation)\n",
    "        position_y += speed * time_elapsed * sin(orientation)\n",
    "    else:\n",
    "        # Calculate turning radius\n",
    "        radius = WHEEL_BASE / tan(steering)\n",
    "        \n",
    "        # Calculate the change in orientation\n",
    "        delta_orientation = speed * time_elapsed / radius\n",
    "        \n",
    "        # Update orientation\n",
    "        orientation = (orientation + delta_orientation) % (2 * pi)\n",
    "        \n",
    "        # Calculate the center of rotation\n",
    "        cx = position_x - sin(orientation) * radius\n",
    "        cy = position_y + cos(orientation) * radius\n",
    "        \n",
    "        # Update position\n",
    "        position_x = cx + sin(orientation + delta_orientation) * radius\n",
    "        position_y = cy - cos(orientation + delta_orientation) * radius\n",
    "\n",
    "def update():\n",
    "    global count_stops, STEERING_GAIN, STEERING_BIAS, position_x, position_y, orientation, last_time\n",
    "    \n",
    "    # Calculate time elapsed since last update\n",
    "    current_time = time.time()\n",
    "    time_elapsed = current_time - last_time\n",
    "    last_time = current_time\n",
    "\n",
    "    # Process the image and get predictions for both models\n",
    "    image = preprocess(camera.read()).half()\n",
    "    \n",
    "    # Collision Avoidance model\n",
    "    prob_blocked = F.softmax(model_trt_collision(image), dim=1).flatten()[0]\n",
    "    blocked_slider.value = prob_blocked.item()\n",
    "    \n",
    "    if prob_blocked >= 0.5:\n",
    "        count_stops += 1\n",
    "        if count_stops < stop_time:\n",
    "            car.steering = 0\n",
    "            car.throttle = 0\n",
    "        else:\n",
    "            count_stops = 0\n",
    "    else:\n",
    "        count_stops = 0\n",
    "        # Road Following model\n",
    "        x = model_trt(image).detach().cpu().numpy().flatten()[0]\n",
    "        \n",
    "        # Compute the steering value\n",
    "        steer_val = x * STEERING_GAIN + STEERING_BIAS\n",
    "        \n",
    "        car.steering = steer_val\n",
    "        car.throttle = -0.2  # Or you can use an adjustable speed variable\n",
    "    \n",
    "    # Update the vehicle position\n",
    "    update_position(car.steering, car.throttle, time_elapsed)\n",
    "\n",
    "    # Save throttle, steering, and position to the CSV file\n",
    "    current_time_str = time.strftime(\"%Y-%m-%d %H:%M:%S\")  # Current timestamp as a string\n",
    "    csv_writer.writerow([current_time_str, car.throttle, car.steering, position_x, position_y, orientation])\n",
    "    \n",
    "    time.sleep(0.001)\n",
    "\n",
    "# Start the loop to process camera frames\n",
    "try:\n",
    "    while True:\n",
    "        update()\n",
    "finally:\n",
    "    csv_file.close()  # Ensure the CSV file is closed when exiting the loop"
   ]
  },
  {
   "cell_type": "code",
   "execution_count": null,
   "id": "9af6f1ef",
   "metadata": {},
   "outputs": [],
   "source": [
    "camera.observe(update)  # Attach the update function to the camera"
   ]
  },
  {
   "cell_type": "code",
   "execution_count": null,
   "id": "88b421f9",
   "metadata": {},
   "outputs": [],
   "source": [
    "import time\n",
    "\n",
    "try:\n",
    "    camera.unobserve(update)\n",
    "except ValueError:\n",
    "    print(\"The update function was not being observed. Skipping unobserve.\")\n",
    "\n",
    "time.sleep(0.1)  # add a small sleep to make sure frames have finished processing\n",
    "\n",
    "car.throttle = 0  # Assuming the car has a throttle attribute"
   ]
  },
  {
   "cell_type": "code",
   "execution_count": null,
   "id": "88410f35",
   "metadata": {},
   "outputs": [],
   "source": [
    "camera_link.unlink()  # don't stream to browser (will still run camera)"
   ]
  },
  {
   "cell_type": "code",
   "execution_count": null,
   "id": "24462a34",
   "metadata": {},
   "outputs": [],
   "source": [
    "camera_link.link()  # stream to browser (wont run camera)"
   ]
  }
 ],
 "metadata": {
  "kernelspec": {
   "display_name": "Python 3",
   "language": "python",
   "name": "python3"
  },
  "language_info": {
   "codemirror_mode": {
    "name": "ipython",
    "version": 3
   },
   "file_extension": ".py",
   "mimetype": "text/x-python",
   "name": "python",
   "nbconvert_exporter": "python",
   "pygments_lexer": "ipython3",
   "version": "3.6.9"
  }
 },
 "nbformat": 4,
 "nbformat_minor": 5
}
