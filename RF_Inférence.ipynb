{
 "cells": [
  {
   "cell_type": "markdown",
   "id": "53f47352",
   "metadata": {},
   "source": [
    "### Inférence préparation"
   ]
  },
  {
   "cell_type": "code",
   "execution_count": 1,
   "id": "b387249d",
   "metadata": {},
   "outputs": [],
   "source": [
    "import cv2\n",
    "import torch\n",
    "import torchvision\n",
    "import torch\n",
    "from torch2trt import TRTModule\n",
    "from jetracer.nvidia_racecar import NvidiaRacecar\n",
    "from jetcam.csi_camera import CSICamera\n",
    "\n",
    "\n",
    "CATEGORIES = ['Train']\n",
    "device = torch.device('cuda')\n",
    "model = torchvision.models.resnet18(pretrained=False)\n",
    "model.fc = torch.nn.Linear(512, 2 * len(CATEGORIES))\n",
    "model = model.cuda().eval().half()\n",
    "model_trt = TRTModule()\n",
    "model_trt.load_state_dict(torch.load('RF1.pth'))\n",
    "car = NvidiaRacecar()\n",
    "camera = CSICamera(width=224, height=224, capture_fps=65)"
   ]
  },
  {
   "cell_type": "markdown",
   "id": "8e63e7a1",
   "metadata": {},
   "source": [
    "### Correcteur Proportionnel"
   ]
  },
  {
   "cell_type": "code",
   "execution_count": null,
   "id": "3cbfe573",
   "metadata": {},
   "outputs": [],
   "source": [
    "from utils import preprocess\n",
    "import numpy as np\n",
    "\n",
    "STEERING_GAIN = -4.00\n",
    "#STEERING_BIAS = -0.15\n",
    "STEERING_BIAS = 0\n",
    "\n",
    "car.throttle = -0.4\n",
    "\n",
    "while True:\n",
    "    image = camera.read()\n",
    "    image = preprocess(image).half()\n",
    "    output = model_trt(image).detach().cpu().numpy().flatten()\n",
    "    x = float(output[0])\n",
    "    car.steering = x * STEERING_GAIN + STEERING_BIAS"
   ]
  },
  {
   "cell_type": "code",
   "execution_count": null,
   "id": "11633432",
   "metadata": {},
   "outputs": [],
   "source": [
    "from utils import preprocess\n",
    "import numpy as np\n",
    "\n",
    "# Constantes pour le contrôle de la voiture\n",
    "STEERING_GAIN = -2.00\n",
    "STEERING_BIAS = 0\n",
    "\n",
    "# Configuration initiale de la voiture\n",
    "car.throttle = -0.3\n",
    "\n",
    "try:\n",
    "    while True:\n",
    "        # Lire l'image depuis la caméra\n",
    "        image = camera.read()\n",
    "        \n",
    "        # Prétraiter l'image\n",
    "        image = preprocess(image).half()\n",
    "        \n",
    "        # Faire une prédiction avec le modèle\n",
    "        output = model_trt(image).detach().cpu().numpy().flatten()\n",
    "        \n",
    "        # Calculer la commande de direction\n",
    "        x = float(output[0])\n",
    "        car.steering = x * STEERING_GAIN + STEERING_BIAS\n",
    "except KeyboardInterrupt:\n",
    "    print(\"Arrêt du programme par l'utilisateur.\")\n",
    "except Exception as e:\n",
    "    print(f\"Une erreur s'est produite : {e}\")\n"
   ]
  },
  {
   "cell_type": "markdown",
   "id": "d1887713",
   "metadata": {},
   "source": [
    "### Correcteur Proportionnel et Dérivateur"
   ]
  },
  {
   "cell_type": "code",
   "execution_count": null,
   "id": "2fd3c2e6",
   "metadata": {},
   "outputs": [],
   "source": [
    "from utils import preprocess\n",
    "import numpy as np\n",
    "\n",
    "kp = -2.0\n",
    "dd = 1\n",
    "last_x = 0\n",
    "\n",
    "car.throttle = -0.2\n",
    "car.steering_offset = 0\n",
    "\n",
    "while True:\n",
    "    image = camera.read()\n",
    "    image = preprocess(image).half()\n",
    "    output = model_trt(image).detach().cpu().numpy().flatten()\n",
    "    x = float(output[0])\n",
    "    car.steering = (x * kp + ( x - last_x ) *dd)\n",
    "    last_x = x"
   ]
  },
  {
   "cell_type": "markdown",
   "id": "6a2057ac",
   "metadata": {},
   "source": [
    "### Enregistrement erreur"
   ]
  },
  {
   "cell_type": "code",
   "execution_count": null,
   "id": "3aa41ab5",
   "metadata": {},
   "outputs": [],
   "source": [
    "import csv\n",
    "from utils import preprocess\n",
    "import numpy as np\n",
    "\n",
    "STEERING_GAIN = -2.00\n",
    "STEERING_BIAS = 0\n",
    "\n",
    "car.throttle = -0.3\n",
    "\n",
    "# Ouvrir le fichier CSV en mode écriture\n",
    "with open('output.csv', 'w', newline='') as csvfile:\n",
    "    fieldnames = ['x']  # Nom du champ dans le fichier CSV\n",
    "    writer = csv.DictWriter(csvfile, fieldnames=fieldnames)\n",
    "\n",
    "    # Écrire l'en-tête du fichier CSV\n",
    "    writer.writeheader()\n",
    "\n",
    "    while True:\n",
    "        image = camera.read()\n",
    "        image = preprocess(image).half()\n",
    "        output = model_trt(image).detach().cpu().numpy().flatten()\n",
    "        x = float(output[0])\n",
    "        car.steering = x * STEERING_GAIN + STEERING_BIAS\n",
    "        \n",
    "        # Écrire la valeur de x dans le fichier CSV\n",
    "        writer.writerow({'x': x})\n"
   ]
  },
  {
   "cell_type": "code",
   "execution_count": null,
   "id": "0bebb5d8",
   "metadata": {},
   "outputs": [],
   "source": []
  }
 ],
 "metadata": {
  "kernelspec": {
   "display_name": "Python 3",
   "language": "python",
   "name": "python3"
  },
  "language_info": {
   "codemirror_mode": {
    "name": "ipython",
    "version": 3
   },
   "file_extension": ".py",
   "mimetype": "text/x-python",
   "name": "python",
   "nbconvert_exporter": "python",
   "pygments_lexer": "ipython3",
   "version": "3.6.9"
  }
 },
 "nbformat": 4,
 "nbformat_minor": 5
}
